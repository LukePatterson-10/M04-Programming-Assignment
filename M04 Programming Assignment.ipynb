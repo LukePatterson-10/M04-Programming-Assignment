{
 "cells": [
  {
   "cell_type": "code",
   "execution_count": null,
   "id": "3faa219f-5811-4c26-a35a-8cb916eeea84",
   "metadata": {},
   "outputs": [],
   "source": [
    "# 11.1 zoo.pi\n",
    "\n",
    "def hours():\n",
    "    print ('Open 9-5 daily') "
   ]
  },
  {
   "cell_type": "code",
   "execution_count": null,
   "id": "4cacc332-5287-46a0-8a44-b409bb1b5f2a",
   "metadata": {},
   "outputs": [],
   "source": [
    "# 11.1 Interactive Interpreter\n",
    "\n",
    "import zoo\n",
    "zoo.hours()"
   ]
  },
  {
   "cell_type": "code",
   "execution_count": null,
   "id": "3fa719ab-5cad-4e58-9ae3-9c522d4a3614",
   "metadata": {},
   "outputs": [],
   "source": [
    "# 11.2 Interactive Interpreter\n",
    "\n",
    "import zoo as menagerie\n",
    "menagerie.hours()"
   ]
  },
  {
   "cell_type": "code",
   "execution_count": null,
   "id": "9ecdffbf-879a-4238-9d4b-153f00394dc7",
   "metadata": {},
   "outputs": [],
   "source": [
    "# 16.4 (Requiered for 16.8)\n",
    "\n",
    "import sqlite 3\n",
    "\n",
    "conn = sqlite3.connect('books.db')\n",
    "cursor = conn.cursor()\n",
    "cursor.execute(''' books (\n",
    "                   title TEXT,\n",
    "                   author TEXT,\n",
    "                   year INTEGER\n",
    "                   )''')\n",
    "\n",
    "conn.commit\n",
    "conn.close"
   ]
  },
  {
   "cell_type": "code",
   "execution_count": null,
   "id": "171795b2-efa8-49f8-8e43-85d52b62e64a",
   "metadata": {},
   "outputs": [],
   "source": [
    "# 16.8\n",
    "\n",
    "engine = create_engine('sqlite:///books.db')\n",
    "metadata = MetaData()\n",
    "metadata.reflect(bind=engine)\n",
    "books_table = metadata.tables['books']\n",
    "connection = engine.connect()\n",
    "result = connection.execute(select([books_table.c.title]).order_by(books_table.c.title))\n",
    "\n",
    "for row in result:\n",
    "    print(row[0])\n",
    "\n",
    "connection.close()"
   ]
  }
 ],
 "metadata": {
  "kernelspec": {
   "display_name": "Python 3 (ipykernel)",
   "language": "python",
   "name": "python3"
  },
  "language_info": {
   "codemirror_mode": {
    "name": "ipython",
    "version": 3
   },
   "file_extension": ".py",
   "mimetype": "text/x-python",
   "name": "python",
   "nbconvert_exporter": "python",
   "pygments_lexer": "ipython3",
   "version": "3.11.7"
  }
 },
 "nbformat": 4,
 "nbformat_minor": 5
}
